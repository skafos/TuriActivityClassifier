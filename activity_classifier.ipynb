{
 "cells": [
  {
   "cell_type": "markdown",
   "metadata": {},
   "source": [
    "## **Turi Activity Classifier**\n",
    "\n",
    "Welcome to the activity classification model quickstart on Skafos! The purpose of this notebook is to get you going end-to-end. Below we will do the following:\n",
    "\n",
    "1. Load activity training data generated from Apple watchOS devices.\n",
    "2. Build an activity classification model.\n",
    "3. Convert the model to CoreML format and sae it to the Saves framework.\n",
    "\n",
    "The example is based on [Turi Create's Activity Classifier](https://apple.github.io/turicreate/docs/userguide/activity_classifier/) and data [from this blog post]().\n",
    "\n",
    "---\n",
    "\n",
    "Execute each cell one-by-one, by selecting the cell and do one of the following:\n",
    "\n",
    "-  Clicking the \"play\" button at the top of this frame.\n",
    "-  Typing 'Control + Enter' or 'Shift + Enter'."
   ]
  },
  {
   "cell_type": "code",
   "execution_count": 2,
   "metadata": {},
   "outputs": [],
   "source": [
    "# If this is your first time in the JupyterLab workspace - install external dependencies\n",
    "from utilities.dependencies import install\n",
    "install(timeout=500)\n",
    "\n",
    "# No need to do this in the future for this notebook"
   ]
  },
  {
   "cell_type": "code",
   "execution_count": 3,
   "metadata": {},
   "outputs": [],
   "source": [
    "# Import necessary libraries\n",
    "from skafossdk import *\n",
    "import turicreate as tc\n",
    "\n",
    "import utilities.save_models as sm"
   ]
  },
  {
   "cell_type": "code",
   "execution_count": null,
   "metadata": {},
   "outputs": [],
   "source": [
    "ska = Skafos() # initialize Skafos"
   ]
  },
  {
   "cell_type": "markdown",
   "metadata": {},
   "source": [
    "### 1. **Load the data**\n",
    "The data for this example comes from watchOS devices. Motion-sensory readings from the device's accerlometer and gyroscope were collected during a live experiment where three activities took place: walking, sitting, and standing. Read more about the experiment and the data cleaning process [in this blog post](). You can also find the raw data in the `...skafos.example.data/ActivityClassifier/raw/..` bucket on s3.\n",
    "\n",
    "Once loaded, the data is split into train and test sets, where 80% of the data is used for training, and 20% is used for model evaluation."
   ]
  },
  {
   "cell_type": "code",
   "execution_count": 4,
   "metadata": {},
   "outputs": [
    {
     "data": {
      "text/html": [
       "<pre>Downloading https://s3.amazonaws.com/skafos.example.data/ActivityClassifier/cleaned/watch_activity_data.csv to /var/tmp/turicreate-jovyan/866/8a0b92a0-929b-4bcb-9277-4f72a675c2f1.csv</pre>"
      ],
      "text/plain": [
       "Downloading https://s3.amazonaws.com/skafos.example.data/ActivityClassifier/cleaned/watch_activity_data.csv to /var/tmp/turicreate-jovyan/866/8a0b92a0-929b-4bcb-9277-4f72a675c2f1.csv"
      ]
     },
     "metadata": {},
     "output_type": "display_data"
    },
    {
     "data": {
      "text/html": [
       "<pre>Finished parsing file https://s3.amazonaws.com/skafos.example.data/ActivityClassifier/cleaned/watch_activity_data.csv</pre>"
      ],
      "text/plain": [
       "Finished parsing file https://s3.amazonaws.com/skafos.example.data/ActivityClassifier/cleaned/watch_activity_data.csv"
      ]
     },
     "metadata": {},
     "output_type": "display_data"
    },
    {
     "data": {
      "text/html": [
       "<pre>Parsing completed. Parsed 100 lines in 0.454308 secs.</pre>"
      ],
      "text/plain": [
       "Parsing completed. Parsed 100 lines in 0.454308 secs."
      ]
     },
     "metadata": {},
     "output_type": "display_data"
    },
    {
     "name": "stdout",
     "output_type": "stream",
     "text": [
      "------------------------------------------------------\n",
      "Inferred types from first 100 line(s) of file as \n",
      "column_type_hints=[int,float,float,float,float,float,float,str,int,str]\n",
      "If parsing fails due to incorrect types, you can correct\n",
      "the inferred type list above and pass it to read_csv in\n",
      "the column_type_hints argument\n",
      "------------------------------------------------------\n"
     ]
    },
    {
     "data": {
      "text/html": [
       "<pre>Finished parsing file https://s3.amazonaws.com/skafos.example.data/ActivityClassifier/cleaned/watch_activity_data.csv</pre>"
      ],
      "text/plain": [
       "Finished parsing file https://s3.amazonaws.com/skafos.example.data/ActivityClassifier/cleaned/watch_activity_data.csv"
      ]
     },
     "metadata": {},
     "output_type": "display_data"
    },
    {
     "data": {
      "text/html": [
       "<pre>Parsing completed. Parsed 63871 lines in 0.376113 secs.</pre>"
      ],
      "text/plain": [
       "Parsing completed. Parsed 63871 lines in 0.376113 secs."
      ]
     },
     "metadata": {},
     "output_type": "display_data"
    }
   ],
   "source": [
    "# Set the column names for the dataframe\n",
    "activity_data_columns = {\n",
    "    \"motionRotationRateX(rad/s)\": \"rotation_x\",\n",
    "    \"motionRotationRateY(rad/s)\": \"rotation_y\",\n",
    "    \"motionRotationRateZ(rad/s)\": \"rotation_z\",\n",
    "    \"motionUserAccelerationX(G)\": \"acceleration_x\",\n",
    "    \"motionUserAccelerationY(G)\": \"acceleration_y\",\n",
    "    \"motionUserAccelerationZ(G)\": \"acceleration_z\",\n",
    "    \"sessionId\": \"session_id\",\n",
    "    \"activity\": \"activity\"\n",
    "}\n",
    "\n",
    "s3_url = \"https://s3.amazonaws.com/skafos.example.data/ActivityClassifier/cleaned/watch_activity_data.csv\"\n",
    "data = tc.SFrame.read_csv(s3_url)[list(activity_data_columns.keys())].rename(activity_data_columns)"
   ]
  },
  {
   "cell_type": "code",
   "execution_count": 5,
   "metadata": {},
   "outputs": [],
   "source": [
    "# Make a train-test split such that each data slice contains whole session chunks\n",
    "train_data, test_data = tc.activity_classifier.util.random_split_by_session(data, session_id='session_id', fraction=0.8)"
   ]
  },
  {
   "cell_type": "code",
   "execution_count": 6,
   "metadata": {},
   "outputs": [
    {
     "data": {
      "text/html": [
       "<div style=\"max-height:1000px;max-width:1500px;overflow:auto;\"><table frame=\"box\" rules=\"cols\">\n",
       "    <tr>\n",
       "        <th style=\"padding-left: 1em; padding-right: 1em; text-align: center\">rotation_x</th>\n",
       "        <th style=\"padding-left: 1em; padding-right: 1em; text-align: center\">rotation_y</th>\n",
       "        <th style=\"padding-left: 1em; padding-right: 1em; text-align: center\">rotation_z</th>\n",
       "        <th style=\"padding-left: 1em; padding-right: 1em; text-align: center\">acceleration_x</th>\n",
       "    </tr>\n",
       "    <tr>\n",
       "        <td style=\"padding-left: 1em; padding-right: 1em; text-align: center; vertical-align: top\">-0.06344138830900192</td>\n",
       "        <td style=\"padding-left: 1em; padding-right: 1em; text-align: center; vertical-align: top\">-0.0328197255730629</td>\n",
       "        <td style=\"padding-left: 1em; padding-right: 1em; text-align: center; vertical-align: top\">-0.04231413453817368</td>\n",
       "        <td style=\"padding-left: 1em; padding-right: 1em; text-align: center; vertical-align: top\">0.0072054117918014535</td>\n",
       "    </tr>\n",
       "    <tr>\n",
       "        <td style=\"padding-left: 1em; padding-right: 1em; text-align: center; vertical-align: top\">-0.0290454775094986</td>\n",
       "        <td style=\"padding-left: 1em; padding-right: 1em; text-align: center; vertical-align: top\">0.002486510667949915</td>\n",
       "        <td style=\"padding-left: 1em; padding-right: 1em; text-align: center; vertical-align: top\">0.0045987796038389215</td>\n",
       "        <td style=\"padding-left: 1em; padding-right: 1em; text-align: center; vertical-align: top\">-0.004168033599853516</td>\n",
       "    </tr>\n",
       "    <tr>\n",
       "        <td style=\"padding-left: 1em; padding-right: 1em; text-align: center; vertical-align: top\">-0.000268168281763792</td>\n",
       "        <td style=\"padding-left: 1em; padding-right: 1em; text-align: center; vertical-align: top\">-0.007145033683627844</td>\n",
       "        <td style=\"padding-left: 1em; padding-right: 1em; text-align: center; vertical-align: top\">0.006905781105160713</td>\n",
       "        <td style=\"padding-left: 1em; padding-right: 1em; text-align: center; vertical-align: top\">0.001023180782794952</td>\n",
       "    </tr>\n",
       "    <tr>\n",
       "        <td style=\"padding-left: 1em; padding-right: 1em; text-align: center; vertical-align: top\">-0.0045244493521749965</td>\n",
       "        <td style=\"padding-left: 1em; padding-right: 1em; text-align: center; vertical-align: top\">0.004608383867889643</td>\n",
       "        <td style=\"padding-left: 1em; padding-right: 1em; text-align: center; vertical-align: top\">0.006813445594161749</td>\n",
       "        <td style=\"padding-left: 1em; padding-right: 1em; text-align: center; vertical-align: top\">-0.0035822018980979924</td>\n",
       "    </tr>\n",
       "    <tr>\n",
       "        <td style=\"padding-left: 1em; padding-right: 1em; text-align: center; vertical-align: top\">0.015679679811000817</td>\n",
       "        <td style=\"padding-left: 1em; padding-right: 1em; text-align: center; vertical-align: top\">-0.0007592616602778435</td>\n",
       "        <td style=\"padding-left: 1em; padding-right: 1em; text-align: center; vertical-align: top\">0.0005138712003827095</td>\n",
       "        <td style=\"padding-left: 1em; padding-right: 1em; text-align: center; vertical-align: top\">0.005263045430183411</td>\n",
       "    </tr>\n",
       "</table>\n",
       "<table frame=\"box\" rules=\"cols\">\n",
       "    <tr>\n",
       "        <th style=\"padding-left: 1em; padding-right: 1em; text-align: center\">acceleration_y</th>\n",
       "        <th style=\"padding-left: 1em; padding-right: 1em; text-align: center\">acceleration_z</th>\n",
       "        <th style=\"padding-left: 1em; padding-right: 1em; text-align: center\">session_id</th>\n",
       "        <th style=\"padding-left: 1em; padding-right: 1em; text-align: center\">activity</th>\n",
       "    </tr>\n",
       "    <tr>\n",
       "        <td style=\"padding-left: 1em; padding-right: 1em; text-align: center; vertical-align: top\">-0.030614793300628666</td>\n",
       "        <td style=\"padding-left: 1em; padding-right: 1em; text-align: center; vertical-align: top\">0.002818763256072998</td>\n",
       "        <td style=\"padding-left: 1em; padding-right: 1em; text-align: center; vertical-align: top\">0</td>\n",
       "        <td style=\"padding-left: 1em; padding-right: 1em; text-align: center; vertical-align: top\">sitting</td>\n",
       "    </tr>\n",
       "    <tr>\n",
       "        <td style=\"padding-left: 1em; padding-right: 1em; text-align: center; vertical-align: top\">-0.020632505416870117</td>\n",
       "        <td style=\"padding-left: 1em; padding-right: 1em; text-align: center; vertical-align: top\">0.01415640115737915</td>\n",
       "        <td style=\"padding-left: 1em; padding-right: 1em; text-align: center; vertical-align: top\">0</td>\n",
       "        <td style=\"padding-left: 1em; padding-right: 1em; text-align: center; vertical-align: top\">sitting</td>\n",
       "    </tr>\n",
       "    <tr>\n",
       "        <td style=\"padding-left: 1em; padding-right: 1em; text-align: center; vertical-align: top\">-0.009195446968078612</td>\n",
       "        <td style=\"padding-left: 1em; padding-right: 1em; text-align: center; vertical-align: top\">-0.00034129619598388666</td>\n",
       "        <td style=\"padding-left: 1em; padding-right: 1em; text-align: center; vertical-align: top\">0</td>\n",
       "        <td style=\"padding-left: 1em; padding-right: 1em; text-align: center; vertical-align: top\">sitting</td>\n",
       "    </tr>\n",
       "    <tr>\n",
       "        <td style=\"padding-left: 1em; padding-right: 1em; text-align: center; vertical-align: top\">-0.0020730793476104736</td>\n",
       "        <td style=\"padding-left: 1em; padding-right: 1em; text-align: center; vertical-align: top\">0.007745623588562013</td>\n",
       "        <td style=\"padding-left: 1em; padding-right: 1em; text-align: center; vertical-align: top\">0</td>\n",
       "        <td style=\"padding-left: 1em; padding-right: 1em; text-align: center; vertical-align: top\">sitting</td>\n",
       "    </tr>\n",
       "    <tr>\n",
       "        <td style=\"padding-left: 1em; padding-right: 1em; text-align: center; vertical-align: top\">0.002861917018890381</td>\n",
       "        <td style=\"padding-left: 1em; padding-right: 1em; text-align: center; vertical-align: top\">-0.0005234479904174805</td>\n",
       "        <td style=\"padding-left: 1em; padding-right: 1em; text-align: center; vertical-align: top\">0</td>\n",
       "        <td style=\"padding-left: 1em; padding-right: 1em; text-align: center; vertical-align: top\">sitting</td>\n",
       "    </tr>\n",
       "</table>\n",
       "[5 rows x 8 columns]<br/>\n",
       "</div>"
      ],
      "text/plain": [
       "Columns:\n",
       "\trotation_x\tfloat\n",
       "\trotation_y\tfloat\n",
       "\trotation_z\tfloat\n",
       "\tacceleration_x\tfloat\n",
       "\tacceleration_y\tfloat\n",
       "\tacceleration_z\tfloat\n",
       "\tsession_id\tint\n",
       "\tactivity\tstr\n",
       "\n",
       "Rows: 5\n",
       "\n",
       "Data:\n",
       "+------------------------+------------------------+-----------------------+\n",
       "|       rotation_x       |       rotation_y       |       rotation_z      |\n",
       "+------------------------+------------------------+-----------------------+\n",
       "|  -0.06344138830900192  |  -0.0328197255730629   |  -0.04231413453817368 |\n",
       "|  -0.0290454775094986   |  0.002486510667949915  | 0.0045987796038389215 |\n",
       "| -0.000268168281763792  | -0.007145033683627844  |  0.006905781105160713 |\n",
       "| -0.0045244493521749965 |  0.004608383867889643  |  0.006813445594161749 |\n",
       "|  0.015679679811000817  | -0.0007592616602778435 | 0.0005138712003827095 |\n",
       "+------------------------+------------------------+-----------------------+\n",
       "+------------------------+------------------------+-------------------------+------------+\n",
       "|     acceleration_x     |     acceleration_y     |      acceleration_z     | session_id |\n",
       "+------------------------+------------------------+-------------------------+------------+\n",
       "| 0.0072054117918014535  | -0.030614793300628666  |   0.002818763256072998  |     0      |\n",
       "| -0.004168033599853516  | -0.020632505416870117  |   0.01415640115737915   |     0      |\n",
       "|  0.001023180782794952  | -0.009195446968078612  | -0.00034129619598388666 |     0      |\n",
       "| -0.0035822018980979924 | -0.0020730793476104736 |   0.007745623588562013  |     0      |\n",
       "|  0.005263045430183411  |  0.002861917018890381  |  -0.0005234479904174805 |     0      |\n",
       "+------------------------+------------------------+-------------------------+------------+\n",
       "+----------+\n",
       "| activity |\n",
       "+----------+\n",
       "| sitting  |\n",
       "| sitting  |\n",
       "| sitting  |\n",
       "| sitting  |\n",
       "| sitting  |\n",
       "+----------+\n",
       "[5 rows x 8 columns]"
      ]
     },
     "execution_count": 6,
     "metadata": {},
     "output_type": "execute_result"
    }
   ],
   "source": [
    "# Take a look at the data\n",
    "train_data.head(5)"
   ]
  },
  {
   "cell_type": "markdown",
   "metadata": {},
   "source": [
    "### 2. **Build the model**\n",
    "We use the `tc.activity_classifier.create` function and specify the data, target variable (that has our activity label), session_id, and a few other arguments needed to properly train the model. To understand more about this specific function, check out the [Turi Create Documentation](https://apple.github.io/turicreate/docs/userguide/activity_classifier/)."
   ]
  },
  {
   "cell_type": "code",
   "execution_count": null,
   "metadata": {},
   "outputs": [],
   "source": [
    "# Create an activity classifier\n",
    "model = tc.activity_classifier.create(\n",
    "    dataset=train_data,\n",
    "    session_id='session_id',\n",
    "    target='activity',\n",
    "    prediction_window=30,\n",
    "    max_iterations=30,\n",
    "    batch_size=64\n",
    ")"
   ]
  },
  {
   "cell_type": "markdown",
   "metadata": {},
   "source": [
    "---\n",
    "**Prediction Window** = *number_seconds_between_predictions* x *sample_frequency*\n",
    "\n",
    "-  *number_seconds_between_predictions* is how many seconds you want between each prediction. Varies by use-case.\n",
    "-  *sample_frequency* is how many sensor readings are taken each second (by the application).\n",
    "\n",
    "For this example, the motion-sensor data from the [watch data collection experiment]() was collected at 10Hz (or 10 times per second). If we want our model to give an activity prediction every 3 seconds, we should set the prediction window to 30 ~ (3 * 10)."
   ]
  },
  {
   "cell_type": "code",
   "execution_count": null,
   "metadata": {},
   "outputs": [],
   "source": [
    "# Find 20 seconds of moving data constrained to a single experiment where moving took place\n",
    "exp_id_with_moving = test_data[test_data['activity'] == 'moving']['session_id'].value_counts()[0]['value']\n",
    "moving_20_seconds = test_data[(test_data['activity'] == 'moving') & (test_data['session_id'] == exp_id_with_moving)][:200]\n",
    "\n",
    "# Find 20 seconds of sitting data constrained to a single experiment where sitting took place\n",
    "exp_id_with_sitting = test_data[test_data['activity'] == 'sitting']['session_id'].value_counts()[0]['value']\n",
    "sitting_20_seconds = test_data[(test_data['activity'] == 'sitting') & (test_data['session_id'] == exp_id_with_sitting)][:200]\n",
    "\n",
    "# Find 20 seconds of standing data constrained to a single experiment where standing took place\n",
    "exp_id_with_standing = test_data[test_data['activity'] == 'standing']['session_id'].value_counts()[0]['value']\n",
    "standing_20_seconds = test_data[(test_data['activity'] == 'standing') & (test_data['session_id'] == exp_id_with_standing)][:200]"
   ]
  },
  {
   "cell_type": "code",
   "execution_count": null,
   "metadata": {},
   "outputs": [],
   "source": [
    "# Check if the model properly classifies each second as walking or something else\n",
    "model.predict(moving_20_seconds, output_frequency='per_window')"
   ]
  },
  {
   "cell_type": "code",
   "execution_count": null,
   "metadata": {},
   "outputs": [],
   "source": [
    "# Check if the model properly classifies each second as sitting or something else\n",
    "model.predict(sitting_20_seconds, output_frequency='per_window')"
   ]
  },
  {
   "cell_type": "code",
   "execution_count": null,
   "metadata": {},
   "outputs": [],
   "source": [
    "# Check if the model properly classifies each second as standing or something else\n",
    "model.predict(standing_20_seconds, output_frequency='per_window')"
   ]
  },
  {
   "cell_type": "code",
   "execution_count": null,
   "metadata": {},
   "outputs": [],
   "source": [
    "# Calculate accuracy of the model against the entire hold out testing set\n",
    "accuracy = tc.evaluation.accuracy(test_data['activity'], model.predict(test_data))\n",
    "print(f'The activity classifier predicted {accuracy*100} % of the testing observations correctly!', flush=True)"
   ]
  },
  {
   "cell_type": "markdown",
   "metadata": {},
   "source": [
    "### 3. **Save the model**\n",
    "Once your model has been created, it must be saved to the Skafos framework via the code below. This will trigger a push to your mobile app."
   ]
  },
  {
   "cell_type": "code",
   "execution_count": null,
   "metadata": {},
   "outputs": [],
   "source": [
    "# Export the model to CoreML\n",
    "coreml_model_name = \"ActivityClassifier.mlmodel\"\n",
    "compressed_model_name = coreml_model_name + \".gz\" \n",
    "res = model.export_coreml(coreml_model_name)\n",
    "\n",
    "# Compress the model\n",
    "compressed_model = sm.compress_model(coreml_model_name)\n",
    "\n",
    "# Save to Skafos\n",
    "sm.skafos_save_model(\n",
    "    skafos=ska,\n",
    "    model_name=compressed_model_name,\n",
    "    compressed_model=compressed_model,\n",
    "    permissions='public'\n",
    ")"
   ]
  }
 ],
 "metadata": {
  "kernelspec": {
   "display_name": "Python 3",
   "language": "python",
   "name": "python3"
  },
  "language_info": {
   "codemirror_mode": {
    "name": "ipython",
    "version": 3
   },
   "file_extension": ".py",
   "mimetype": "text/x-python",
   "name": "python",
   "nbconvert_exporter": "python",
   "pygments_lexer": "ipython3",
   "version": "3.6.5"
  }
 },
 "nbformat": 4,
 "nbformat_minor": 2
}
