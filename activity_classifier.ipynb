{
 "cells": [
  {
   "cell_type": "markdown",
   "metadata": {},
   "source": [
    "## **Turi Activity Classifier**\n",
    "\n",
    "Welcome to the activity classification model quickstart on Skafos! The purpose of this notebook is to get you going end-to-end. Below we will do the following:\n",
    "\n",
    "1. Load activity training data generated from Apple watchOS devices.\n",
    "2. Build an activity classification model.\n",
    "3. Validate the model against some test data.\n",
    "4. Convert the model to CoreML format and sae it to the Saves framework.\n",
    "\n",
    "The example is based on [Turi Create's Activity Classifier](https://apple.github.io/turicreate/docs/userguide/activity_classifier/) and is associated with this [3-part blog series](https://medium.com/metis-machine/activity-classification-for-watchos-part-1-542d44388c40).\n",
    "\n",
    "---\n",
    "\n",
    "Execute each cell one-by-one, by selecting the cell and do one of the following:\n",
    "\n",
    "-  Clicking the \"play\" button at the top of this frame.\n",
    "-  Typing 'Control + Enter' or 'Shift + Enter'."
   ]
  },
  {
   "cell_type": "code",
   "execution_count": null,
   "metadata": {},
   "outputs": [],
   "source": [
    "# If this is your first time in the JupyterLab workspace - install external dependencies\n",
    "from utilities.dependencies import install\n",
    "install(timeout=500)\n",
    "\n",
    "# No need to do this in the future for this notebook"
   ]
  },
  {
   "cell_type": "code",
   "execution_count": null,
   "metadata": {},
   "outputs": [],
   "source": [
    "# Import necessary libraries\n",
    "from skafossdk import *\n",
    "import turicreate as tc"
   ]
  },
  {
   "cell_type": "code",
   "execution_count": null,
   "metadata": {},
   "outputs": [],
   "source": [
    "# Initialize Skafos\n",
    "ska = Skafos()"
   ]
  },
  {
   "cell_type": "markdown",
   "metadata": {},
   "source": [
    "### 1. **Load the data**\n",
    "The data for this example comes from watchOS devices. Motion-sensory readings from the device's accelerometer and gyroscope were collected during a live experiment where three activities took place: walking, sitting, and standing. Read more about the experiment and the data cleaning process [here](https://medium.com/metis-machine/activity-classification-for-watchos-part-1-542d44388c40). You can also find the raw data in the `...skafos.example.data/ActivityClassifier/raw/..` bucket on s3.\n",
    "\n",
    "Once loaded, the data is split into train and test sets, where 80% of the data is used for training, and 20% is used for model evaluation."
   ]
  },
  {
   "cell_type": "code",
   "execution_count": null,
   "metadata": {},
   "outputs": [],
   "source": [
    "# Set the column names for the dataframe\n",
    "activity_data_columns = {\n",
    "    \"motionRotationRateX(rad/s)\": \"rotation_x\",\n",
    "    \"motionRotationRateY(rad/s)\": \"rotation_y\",\n",
    "    \"motionRotationRateZ(rad/s)\": \"rotation_z\",\n",
    "    \"motionUserAccelerationX(G)\": \"acceleration_x\",\n",
    "    \"motionUserAccelerationY(G)\": \"acceleration_y\",\n",
    "    \"motionUserAccelerationZ(G)\": \"acceleration_z\",\n",
    "    \"sessionId\": \"session_id\",\n",
    "    \"activity\": \"activity\"\n",
    "}\n",
    "\n",
    "# Loading the dataset from S3 Bucket to SFrame\n",
    "s3_url = \"https://s3.amazonaws.com/skafos.example.data/ActivityClassifier/cleaned/watch_activity_data.csv\"\n",
    "data = tc.SFrame.read_csv(s3_url)[list(activity_data_columns.keys())].rename(activity_data_columns)"
   ]
  },
  {
   "cell_type": "code",
   "execution_count": null,
   "metadata": {},
   "outputs": [],
   "source": [
    "# Make a train-test split such that each data slice contains whole session chunks\n",
    "train_data, test_data = tc.activity_classifier.util.random_split_by_session(data, session_id='session_id', fraction=0.8)"
   ]
  },
  {
   "cell_type": "code",
   "execution_count": null,
   "metadata": {},
   "outputs": [],
   "source": [
    "# Take a look at the data\n",
    "train_data.head(5)"
   ]
  },
  {
   "cell_type": "markdown",
   "metadata": {},
   "source": [
    "### 2. **Build the model**\n",
    "We use the `tc.activity_classifier.create` function and specify the data, target variable (the activity label), session_id, and a few other arguments needed to properly train the model. To understand more about this specific function, check out the [Turi Create Documentation](https://apple.github.io/turicreate/docs/userguide/activity_classifier/)."
   ]
  },
  {
   "cell_type": "code",
   "execution_count": null,
   "metadata": {},
   "outputs": [],
   "source": [
    "# Create an activity classifier model\n",
    "model = tc.activity_classifier.create(\n",
    "    dataset=train_data,\n",
    "    session_id='session_id',\n",
    "    target='activity',\n",
    "    prediction_window=30,\n",
    "    max_iterations=30,\n",
    "    batch_size=64\n",
    ")"
   ]
  },
  {
   "cell_type": "markdown",
   "metadata": {},
   "source": [
    "---\n",
    "**Prediction Window** = *number_seconds_between_predictions* x *sample_frequency*\n",
    "\n",
    "-  *number_seconds_between_predictions* is how many seconds you want between each prediction. Varies by use-case.\n",
    "-  *sample_frequency* is how many sensor readings are taken each second (by the application).\n",
    "\n",
    "For this example, the motion-sensor data was collected at 10Hz (or 10 times per second). If we want our model to give an activity prediction every 3 seconds, we should set the prediction window to 30 ~ (3 * 10)."
   ]
  },
  {
   "cell_type": "markdown",
   "metadata": {},
   "source": [
    "### 3. **Model Validation**\n",
    "Below we test the model by checking predictions against held out data reserved for evaluation. We find sample data for an activity and see if the model is able to classify it correctly."
   ]
  },
  {
   "cell_type": "code",
   "execution_count": null,
   "metadata": {},
   "outputs": [],
   "source": [
    "# Get the most common activity in the test sample\n",
    "activity = test_data['activity'].value_counts()[0]['value']\n",
    "\n",
    "# Find a session id in the test sample with that activity\n",
    "session_id = test_data[test_data['activity'] == activity]['session_id'].value_counts()[0]['value']\n",
    "\n",
    "# Grab a slice of data constrained to a single experiment and activity\n",
    "test_slice = test_data[(test_data['session_id'] == session_id) & (test_data['activity'] == activity)]\n",
    "\n",
    "ska.log(f'Evaluating trained activity classifier against {activity} sample data within session {session_id}.', labels=['validation'])"
   ]
  },
  {
   "cell_type": "code",
   "execution_count": null,
   "metadata": {},
   "outputs": [],
   "source": [
    "# Model predictions over the test slice\n",
    "model.predict(test_slice, output_frequency='per_window')"
   ]
  },
  {
   "cell_type": "code",
   "execution_count": null,
   "metadata": {},
   "outputs": [],
   "source": [
    "# Calculate accuracy of the model against the entire hold out testing set\n",
    "accuracy = tc.evaluation.accuracy(test_data['activity'], model.predict(test_data))\n",
    "ska.log(f'The activity classifier predicted {accuracy*100} % of the testing observations correctly!', labels=['validation'])"
   ]
  },
  {
   "cell_type": "markdown",
   "metadata": {},
   "source": [
    "### 4. **Deliver the model**\n",
    "Once your model has been created, it must be converted to CoreML and saved to the Skafos framework. Once saved, if you wish to push to your iOS devices, you can use the `.deliver()` method below. We've left that commented out for now."
   ]
  },
  {
   "cell_type": "code",
   "execution_count": null,
   "metadata": {},
   "outputs": [],
   "source": [
    "# Specify the CoreML model name\n",
    "model_name = 'ActivityClassifier'\n",
    "coreml_model_name = model_name + '.mlmodel'\n",
    "\n",
    "# Export the trained model to CoreML format\n",
    "res = model.export_coreml(coreml_model_name) \n",
    "\n",
    "# Save model asset to Skafos\n",
    "ska.asset_manager.save(\n",
    "    name=model_name,              # Name used to load or deliver asset, also used within the Swift SDK.\n",
    "    files=coreml_model_name,      # File or list of files to bundle together as a versioned asset.\n",
    "    tags=['latest'],              # User-defined tags to help distinguish your asset.\n",
    "    access='public'               # Asset access- public/private.\n",
    ")"
   ]
  },
  {
   "cell_type": "code",
   "execution_count": null,
   "metadata": {},
   "outputs": [],
   "source": [
    "# Deliver asset to devices (push)\n",
    "#ska.asset_manager.deliver(\n",
    "#  name=model_name,                # Name used to load or deliver asset, also used within the Swift SDK.\n",
    "#  tag='latest',                   # User-defined tags to help distinguish your asset.\n",
    "#  dev=True                        # Push asset through Apple's APNS dev or prod server\n",
    "#)"
   ]
  }
 ],
 "metadata": {
  "kernelspec": {
   "display_name": "Python 3",
   "language": "python",
   "name": "python3"
  },
  "language_info": {
   "codemirror_mode": {
    "name": "ipython",
    "version": 3
   },
   "file_extension": ".py",
   "mimetype": "text/x-python",
   "name": "python",
   "nbconvert_exporter": "python",
   "pygments_lexer": "ipython3",
   "version": "3.6.5"
  }
 },
 "nbformat": 4,
 "nbformat_minor": 2
}
