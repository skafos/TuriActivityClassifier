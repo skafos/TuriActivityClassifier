{
 "cells": [
  {
   "cell_type": "markdown",
   "metadata": {},
   "source": [
    "## **Turi Activity Classifier**\n",
    "\n",
    "Welcome to the activity classification model quickstart on Skafos! The purpose of this notebook is to get you going end-to-end. Below we will do the following:\n",
    "\n",
    "1. Load activity training data.\n",
    "2. Build an activity classification model.\n",
    "3. Convert the model to CoreML format and sae it to the Saves framework.\n",
    "\n",
    "The example is based on [Turi Create's Activity Classifier](https://apple.github.io/turicreate/docs/userguide/activity_classifier/).\n",
    "\n",
    "---\n",
    "\n",
    "Execute each cell one-by-one, by selecting the cell and do one of the following:\n",
    "\n",
    "-  Clicking the \"play\" button at the top of this frame.\n",
    "-  Typing 'Control + Enter' or 'Shift + Enter'."
   ]
  },
  {
   "cell_type": "code",
   "execution_count": null,
   "metadata": {},
   "outputs": [],
   "source": [
    "# Import necessary libraries\n",
    "from skafossdk import *\n",
    "\n",
    "from utilities.dependencies import install\n",
    "install(timeout=500, retries=2) # check to make sure dependencies are installed\n",
    "\n",
    "import turicreate as tc\n",
    "from utilities.load_data import ActivityData\n",
    "import utilities.save_models as sm"
   ]
  },
  {
   "cell_type": "code",
   "execution_count": null,
   "metadata": {},
   "outputs": [],
   "source": [
    "ska = Skafos() # initialize Skafos"
   ]
  },
  {
   "cell_type": "markdown",
   "metadata": {},
   "source": [
    "### 1. **Load the data**\n",
    "The data for this example comes from the open source HAPT dataset, consisting of activity-labeled experiments and motion-sensory readings from an accelerometer and gyroscope. The data is loaded using a separate module `utilities.load_data`. The data is randomly split into train and test sets, where 80% of the data is used for training, and 20% is used for model evaluation."
   ]
  },
  {
   "cell_type": "code",
   "execution_count": null,
   "metadata": {},
   "outputs": [],
   "source": [
    "# Load data from a hosted s3 bucket\n",
    "activity_data = ActivityData()\n",
    "data = activity_data.get_data() "
   ]
  },
  {
   "cell_type": "code",
   "execution_count": null,
   "metadata": {},
   "outputs": [],
   "source": [
    "# Make a train-test split such that each data slice contains whole \"Experiment\" chunks\n",
    "train_data, test_data = tc.activity_classifier.util.random_split_by_session(data, session_id='Experiment', fraction=0.8)"
   ]
  },
  {
   "cell_type": "code",
   "execution_count": null,
   "metadata": {},
   "outputs": [],
   "source": [
    "# Take a look at the data\n",
    "train_data.head(5)"
   ]
  },
  {
   "cell_type": "markdown",
   "metadata": {},
   "source": [
    "### 2. **Build the model**\n",
    "We use the `tc.activity_classifier.create` function and specify the data, target variable, session_id, and a few other arguments needed to properly train the model. To understand more about this specific function, check out the [Turi Create Documentation](https://apple.github.io/turicreate/docs/userguide/activity_classifier/)."
   ]
  },
  {
   "cell_type": "code",
   "execution_count": null,
   "metadata": {},
   "outputs": [],
   "source": [
    "# Create an activity classifier\n",
    "model = tc.activity_classifier.create(\n",
    "    dataset=train_data,\n",
    "    session_id='Experiment',\n",
    "    target='Activity',\n",
    "    prediction_window=50\n",
    ")"
   ]
  },
  {
   "cell_type": "markdown",
   "metadata": {},
   "source": [
    "---\n",
    "**Prediction Window** = *number_seconds_between_predictions* x *sample_frequency*\n",
    "\n",
    "-  *number_seconds_between_predictions* is how many seconds you want between each prediction. Varies by use-case.\n",
    "-  *sample_frequency* is how many sensor readings are taken each second (by the application).\n",
    "\n",
    "For this example, the motion-sensor data from HAPT was collected at 50Hz (or 50 times per second). If we want our model to give an activity prediction every 1 second, we should set the prediction window to 50 ~ (1 * 50)."
   ]
  },
  {
   "cell_type": "code",
   "execution_count": null,
   "metadata": {},
   "outputs": [],
   "source": [
    "# Find 3 seconds of walking data constrained to a single experiment where walking took place\n",
    "exp_id_with_walking = test_data[test_data['Activity'] == 'walking']['Experiment'].value_counts()[0]['value']\n",
    "walking_3_seconds = test_data[(test_data['Activity'] == 'walking') & (test_data['Experiment'] == exp_id_with_walking)][:150]\n",
    "\n",
    "# Find 10 seconds of sitting data constrained to a single experiment where sitting took place\n",
    "exp_id_with_sitting = test_data[test_data['Activity'] == 'sitting']['Experiment'].value_counts()[0]['value']\n",
    "sitting_10_seconds = test_data[(test_data['Activity'] == 'sitting') & (test_data['Experiment'] == exp_id_with_sitting)][:500]"
   ]
  },
  {
   "cell_type": "code",
   "execution_count": null,
   "metadata": {},
   "outputs": [],
   "source": [
    "# Check if the model properly classifies each second as walking or something else\n",
    "model.predict(walking_3_seconds, output_frequency='per_window')"
   ]
  },
  {
   "cell_type": "code",
   "execution_count": null,
   "metadata": {},
   "outputs": [],
   "source": [
    "# Check if the model properly classifies each second as sitting or something else\n",
    "model.predict(sitting_10_seconds, output_frequency='per_window')"
   ]
  },
  {
   "cell_type": "markdown",
   "metadata": {},
   "source": [
    "### 3. **Save the model**\n",
    "Once your model has been created, it must be saved to the Skafos framework via the code below. This will trigger a push to your mobile app."
   ]
  },
  {
   "cell_type": "code",
   "execution_count": null,
   "metadata": {},
   "outputs": [],
   "source": [
    "## Export to coreml\n",
    "\n",
    "# Specify the CoreML model name\n",
    "coreml_model_name = 'ActivityClassifier.mlmodel'\n",
    "# Specify the name of the compressed model we save to Skafos\n",
    "compressed_model_name = coreml_model_name + \".gz\" \n",
    "\n",
    "# Export the trained model to CoreML format\n",
    "res = model.export_coreml(coreml_model_name) \n",
    "\n",
    "# Compress the model\n",
    "compressed_model = sm.compress_model(coreml_model_name)\n",
    "\n",
    "# Save to Skafos\n",
    "sm.skafos_save_model(\n",
    "    skafos=ska,\n",
    "    model_name=compressed_model_name,\n",
    "    compressed_model=compressed_model,\n",
    "    permissions='public'\n",
    ")"
   ]
  }
 ],
 "metadata": {
  "kernelspec": {
   "display_name": "Python 3",
   "language": "python",
   "name": "python3"
  },
  "language_info": {
   "codemirror_mode": {
    "name": "ipython",
    "version": 3
   },
   "file_extension": ".py",
   "mimetype": "text/x-python",
   "name": "python",
   "nbconvert_exporter": "python",
   "pygments_lexer": "ipython3",
   "version": "3.6.6"
  }
 },
 "nbformat": 4,
 "nbformat_minor": 2
}
