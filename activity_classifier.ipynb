{
 "cells": [
  {
   "cell_type": "markdown",
   "metadata": {},
   "source": [
    "## **Turi Activity Classifier**\n",
    "\n",
    "Welcome to the activity classification model quickstart on Skafos! The purpose of this notebook is to get you going end-to-end. Below we will do the following:\n",
    "\n",
    "1. Load activity training data generated from Apple watchOS devices.\n",
    "2. Build an activity classification model.\n",
    "3. Convert the model to CoreML format and sae it to the Saves framework.\n",
    "\n",
    "The example is based on [Turi Create's Activity Classifier](https://apple.github.io/turicreate/docs/userguide/activity_classifier/) and data [from this blog post]().\n",
    "\n",
    "---\n",
    "\n",
    "Execute each cell one-by-one, by selecting the cell and do one of the following:\n",
    "\n",
    "-  Clicking the \"play\" button at the top of this frame.\n",
    "-  Typing 'Control + Enter' or 'Shift + Enter'."
   ]
  },
  {
   "cell_type": "code",
   "execution_count": null,
   "metadata": {},
   "outputs": [],
   "source": [
    "# If this is your first time in the JupyterLab workspace - install external dependencies\n",
    "from utilities.dependencies import install\n",
    "install(timeout=500)\n",
    "\n",
    "# No need to do this in the future for this notebook"
   ]
  },
  {
   "cell_type": "code",
   "execution_count": null,
   "metadata": {},
   "outputs": [],
   "source": [
    "# Import necessary libraries\n",
    "from skafossdk import *\n",
    "import turicreate as tc\n",
    "\n",
    "import utilities.save_models as sm"
   ]
  },
  {
   "cell_type": "code",
   "execution_count": null,
   "metadata": {},
   "outputs": [],
   "source": [
    "ska = Skafos() # initialize Skafos"
   ]
  },
  {
   "cell_type": "markdown",
   "metadata": {},
   "source": [
    "### 1. **Load the data**\n",
    "The data for this example comes from watchOS devices. Motion-sensory readings from the device's accerlometer and gyroscope were collected during a live experiment where three activities took place: walking, sitting, and standing. Read more about the experiment and the data cleaning process [in this blog post](). You can also find the raw data in the `...skafos.example.data/ActivityClassifier/raw/..` bucket on s3.\n",
    "\n",
    "Once loaded, the data is split into train and test sets, where 80% of the data is used for training, and 20% is used for model evaluation."
   ]
  },
  {
   "cell_type": "code",
   "execution_count": null,
   "metadata": {},
   "outputs": [],
   "source": [
    "# Set the column names for the dataframe\n",
    "activity_data_columns = {\n",
    "    \"motionRotationRateX(rad/s)\": \"rotation_x\",\n",
    "    \"motionRotationRateY(rad/s)\": \"rotation_y\",\n",
    "    \"motionRotationRateZ(rad/s)\": \"rotation_z\",\n",
    "    \"motionUserAccelerationX(G)\": \"acceleration_x\",\n",
    "    \"motionUserAccelerationY(G)\": \"acceleration_y\",\n",
    "    \"motionUserAccelerationZ(G)\": \"acceleration_z\",\n",
    "    \"sessionId\": \"session_id\",\n",
    "    \"activity\": \"activity\"\n",
    "}\n",
    "\n",
    "s3_url = \"https://s3.amazonaws.com/skafos.example.data/ActivityClassifier/cleaned/watch_activity_data.csv\"\n",
    "data = tc.SFrame.read_csv(s3_url)[list(activity_data_columns.keys())].rename(activity_data_columns)"
   ]
  },
  {
   "cell_type": "code",
   "execution_count": null,
   "metadata": {},
   "outputs": [],
   "source": [
    "# Make a train-test split such that each data slice contains whole session chunks\n",
    "train_data, test_data = tc.activity_classifier.util.random_split_by_session(data, session_id='session_id', fraction=0.8)"
   ]
  },
  {
   "cell_type": "code",
   "execution_count": null,
   "metadata": {},
   "outputs": [],
   "source": [
    "# Take a look at the data\n",
    "train_data.head(5)"
   ]
  },
  {
   "cell_type": "markdown",
   "metadata": {},
   "source": [
    "### 2. **Build the model**\n",
    "We use the `tc.activity_classifier.create` function and specify the data, target variable (that has our activity label), session_id, and a few other arguments needed to properly train the model. To understand more about this specific function, check out the [Turi Create Documentation](https://apple.github.io/turicreate/docs/userguide/activity_classifier/)."
   ]
  },
  {
   "cell_type": "code",
   "execution_count": null,
   "metadata": {},
   "outputs": [],
   "source": [
    "# Create an activity classifier\n",
    "model = tc.activity_classifier.create(\n",
    "    dataset=train_data,\n",
    "    session_id='session_id',\n",
    "    target='activity',\n",
    "    prediction_window=30,\n",
    "    max_iterations=30,\n",
    "    batch_size=64\n",
    ")"
   ]
  },
  {
   "cell_type": "markdown",
   "metadata": {},
   "source": [
    "---\n",
    "**Prediction Window** = *number_seconds_between_predictions* x *sample_frequency*\n",
    "\n",
    "-  *number_seconds_between_predictions* is how many seconds you want between each prediction. Varies by use-case.\n",
    "-  *sample_frequency* is how many sensor readings are taken each second (by the application).\n",
    "\n",
    "For this example, the motion-sensor data from the [watch data collection experiment]() was collected at 10Hz (or 10 times per second). If we want our model to give an activity prediction every 3 seconds, we should set the prediction window to 30 ~ (3 * 10)."
   ]
  },
  {
   "cell_type": "code",
   "execution_count": null,
   "metadata": {},
   "outputs": [],
   "source": [
    "# Find 20 seconds of moving data constrained to a single experiment where moving took place\n",
    "exp_id_with_moving = test_data[test_data['activity'] == 'moving']['session_id'].value_counts()[0]['value']\n",
    "moving_20_seconds = test_data[(test_data['activity'] == 'moving') & (test_data['session_id'] == exp_id_with_moving)][:200]\n",
    "\n",
    "# Find 20 seconds of sitting data constrained to a single experiment where sitting took place\n",
    "exp_id_with_sitting = test_data[test_data['activity'] == 'sitting']['session_id'].value_counts()[0]['value']\n",
    "sitting_20_seconds = test_data[(test_data['activity'] == 'sitting') & (test_data['session_id'] == exp_id_with_sitting)][:200]\n",
    "\n",
    "# Find 20 seconds of standing data constrained to a single experiment where standing took place\n",
    "exp_id_with_standing = test_data[test_data['activity'] == 'standing']['session_id'].value_counts()[0]['value']\n",
    "standing_20_seconds = test_data[(test_data['activity'] == 'standing') & (test_data['session_id'] == exp_id_with_standing)][:200]"
   ]
  },
  {
   "cell_type": "code",
   "execution_count": null,
   "metadata": {},
   "outputs": [],
   "source": [
    "# Check if the model properly classifies each second as walking or something else\n",
    "model.predict(moving_20_seconds, output_frequency='per_window')"
   ]
  },
  {
   "cell_type": "code",
   "execution_count": null,
   "metadata": {},
   "outputs": [],
   "source": [
    "# Check if the model properly classifies each second as sitting or something else\n",
    "model.predict(sitting_20_seconds, output_frequency='per_window')"
   ]
  },
  {
   "cell_type": "code",
   "execution_count": null,
   "metadata": {},
   "outputs": [],
   "source": [
    "# Check if the model properly classifies each second as standing or something else\n",
    "model.predict(standing_20_seconds, output_frequency='per_window')"
   ]
  },
  {
   "cell_type": "code",
   "execution_count": null,
   "metadata": {},
   "outputs": [],
   "source": [
    "# Calculate accuracy of the model against the entire hold out testing set\n",
    "accuracy = tc.evaluation.accuracy(test_data['activity'], model.predict(test_data))\n",
    "print(f'The activity classifier predicted {accuracy*100} % of the testing observations correctly!', flush=True)"
   ]
  },
  {
   "cell_type": "markdown",
   "metadata": {},
   "source": [
    "### 3. **Save the model**\n",
    "Once your model has been created, it must be saved to the Skafos framework via the code below. This will trigger a push to your mobile app."
   ]
  },
  {
   "cell_type": "code",
   "execution_count": null,
   "metadata": {},
   "outputs": [],
   "source": [
    "# Export the model to CoreML\n",
    "coreml_model_name = \"ActivityClassifier.mlmodel\"\n",
    "compressed_model_name = coreml_model_name + \".gz\" \n",
    "res = model.export_coreml(coreml_model_name)\n",
    "\n",
    "# Compress the model\n",
    "compressed_model = sm.compress_model(coreml_model_name)\n",
    "\n",
    "# Save to Skafos\n",
    "sm.skafos_save_model(\n",
    "    skafos=ska,\n",
    "    model_name=compressed_model_name,\n",
    "    compressed_model=compressed_model,\n",
    "    permissions='public'\n",
    ")"
   ]
  }
 ],
 "metadata": {
  "kernelspec": {
   "display_name": "Python 3",
   "language": "python",
   "name": "python3"
  },
  "language_info": {
   "codemirror_mode": {
    "name": "ipython",
    "version": 3
   },
   "file_extension": ".py",
   "mimetype": "text/x-python",
   "name": "python",
   "nbconvert_exporter": "python",
   "pygments_lexer": "ipython3",
   "version": "3.6.5"
  }
 },
 "nbformat": 4,
 "nbformat_minor": 2
}
