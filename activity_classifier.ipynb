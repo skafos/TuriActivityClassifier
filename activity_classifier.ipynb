{
 "cells": [
  {
   "cell_type": "markdown",
   "metadata": {},
   "source": [
    "## **Turi Create Object Detection on Skafos**\n",
    "The below example code and more documentation on the approach can be found [here](https://apple.github.io/turicreate/docs/userguide/activity_classifier).\n",
    "This notebook does the following:\n",
    "1. Loads the data\n",
    "2. Builds the model\n",
    "3. Saves the model"
   ]
  },
  {
   "cell_type": "code",
   "execution_count": 1,
   "metadata": {},
   "outputs": [],
   "source": [
    "import turicreate as tc\n",
    "from skafossdk import *\n",
    "import sys\n",
    "import pandas as pd\n",
    "from common.load_data import ActivityData\n",
    "import common.save_models as sm\n",
    "\n",
    "\n",
    "ska = Skafos() # initialize Skafos"
   ]
  },
  {
   "cell_type": "code",
   "execution_count": 4,
   "metadata": {},
   "outputs": [],
   "source": [
    "tc.config.set_num_gpus(0)"
   ]
  },
  {
   "cell_type": "markdown",
   "metadata": {},
   "source": [
    "### 1. **Load the data**\n",
    "The data for this example comes from the open source HAPT dataset. The data is loaded in a separate module `common.load_data`. The data is then split into training and testing sets."
   ]
  },
  {
   "cell_type": "code",
   "execution_count": 2,
   "metadata": {},
   "outputs": [],
   "source": [
    "# load data loading class\n",
    "activity_data = ActivityData()\n",
    "data = activity_data.get_data() \n",
    "\n",
    "\n",
    "train, test = tc.activity_classifier.util.random_split_by_session(data, session_id='Experiment', fraction=0.8)"
   ]
  },
  {
   "cell_type": "markdown",
   "metadata": {},
   "source": [
    "### 2. **Build the model**\n",
    "We pass the data to the `tc.activity_classifier.create` function and specify a few arguments needed to properly run the model. To understand more about this specific function, check out the [Turi Create Documentation](https://apple.github.io/turicreate/docs/userguide/activity_classifier/)."
   ]
  },
  {
   "cell_type": "code",
   "execution_count": 5,
   "metadata": {},
   "outputs": [
    {
     "name": "stdout",
     "output_type": "stream",
     "text": [
      "The dataset has less than the minimum of 100 sessions required for train-validation split. Continuing without validation set\n"
     ]
    },
    {
     "data": {
      "text/html": [
       "<pre>Pre-processing 600945 samples...</pre>"
      ],
      "text/plain": [
       "Pre-processing 600945 samples..."
      ]
     },
     "metadata": {},
     "output_type": "display_data"
    },
    {
     "data": {
      "text/html": [
       "<pre>Using sequences of size 1000 for model creation.</pre>"
      ],
      "text/plain": [
       "Using sequences of size 1000 for model creation."
      ]
     },
     "metadata": {},
     "output_type": "display_data"
    },
    {
     "data": {
      "text/html": [
       "<pre>Processed a total of 49 sessions.</pre>"
      ],
      "text/plain": [
       "Processed a total of 49 sessions."
      ]
     },
     "metadata": {},
     "output_type": "display_data"
    },
    {
     "name": "stdout",
     "output_type": "stream",
     "text": [
      "Using CPU to create model\n",
      "+----------------+----------------+----------------+----------------+\n",
      "| Iteration      | Train Accuracy | Train Loss     | Elapsed Time   |\n",
      "+----------------+----------------+----------------+----------------+\n",
      "| 1              | 0.613          | 0.969          | 1.0            |\n",
      "| 2              | 0.798          | 0.538          | 2.0            |\n",
      "| 3              | 0.859          | 0.391          | 3.0            |\n",
      "| 4              | 0.877          | 0.333          | 4.0            |\n",
      "| 5              | 0.887          | 0.309          | 5.0            |\n",
      "| 6              | 0.896          | 0.276          | 6.1            |\n",
      "| 7              | 0.901          | 0.254          | 7.1            |\n",
      "| 8              | 0.900          | 0.250          | 8.1            |\n",
      "| 9              | 0.909          | 0.231          | 9.1            |\n",
      "| 10             | 0.917          | 0.212          | 10.1           |\n",
      "+----------------+----------------+----------------+----------------+\n",
      "Training complete\n",
      "Total Time Spent: 10.1435s\n"
     ]
    }
   ],
   "source": [
    "# Create an activity classifier\n",
    "model = tc.activity_classifier.create(train, session_id='Experiment', target='Activity', prediction_window=50)"
   ]
  },
  {
   "cell_type": "markdown",
   "metadata": {},
   "source": [
    "### 3. **Save the model**\n",
    "We save the model to Skafos so that you can download it into your project later without having to always retrain the model."
   ]
  },
  {
   "cell_type": "code",
   "execution_count": null,
   "metadata": {},
   "outputs": [],
   "source": [
    "# export to coreml\n",
    "coreml_model_name = \"activity_classifier.mlmodel\"\n",
    "res = model.export_coreml(coreml_model_name)\n",
    "\n",
    "# compress the model\n",
    "compressed_model_name, compressed_model = sm.compress_model(coreml_model_name)\n",
    "\n",
    "# save to Skafos\n",
    "sm.skafos_save_model(skafos = ska, model_name = compressed_model_name,\n",
    "                         compressed_model = compressed_model,\n",
    "                         permissions = 'public')\n"
   ]
  }
 ],
 "metadata": {
  "kernelspec": {
   "display_name": "Python 3",
   "language": "python",
   "name": "python3"
  },
  "language_info": {
   "codemirror_mode": {
    "name": "ipython",
    "version": 3
   },
   "file_extension": ".py",
   "mimetype": "text/x-python",
   "name": "python",
   "nbconvert_exporter": "python",
   "pygments_lexer": "ipython3",
   "version": "3.6.6"
  }
 },
 "nbformat": 4,
 "nbformat_minor": 2
}
